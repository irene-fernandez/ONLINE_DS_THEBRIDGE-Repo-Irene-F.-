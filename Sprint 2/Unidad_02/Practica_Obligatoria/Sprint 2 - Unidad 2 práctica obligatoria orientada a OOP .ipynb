{
 "cells": [
  {
   "cell_type": "markdown",
   "id": "01642b5b-659e-4169-b39b-80adfc992b19",
   "metadata": {},
   "source": [
    "***SPRINT 2 - UNIDAD 2 --> PRACTICA OBLIGATORIA PYTHON POO (Programación Orientada a Objetos)***"
   ]
  },
  {
   "cell_type": "markdown",
   "id": "619e38ef-72d3-4b71-b846-4ba4d7f5ebc2",
   "metadata": {},
   "source": [
    "**Un método de retiro (withdraw)**\n",
    "\n",
    "* Resta dinero del saldo.\n",
    "* Un parámetro, dinero a retirar.\n",
    "* Lanza un ValueError si no hay suficiente dinero para retirar.\n",
    "* Devuelve una cadena con el nombre y el saldo (ver ejemplos).**"
   ]
  },
  {
   "cell_type": "code",
   "execution_count": 28,
   "id": "9d92547a-3e6f-4d3b-9a32-6b9f73c2f19d",
   "metadata": {},
   "outputs": [
    {
     "name": "stdout",
     "output_type": "stream",
     "text": [
      "tiene un nuevo saldo de -20000\n",
      "tiene un nuevo saldo de -20000\n",
      "el nuevo saldo es  -20000\n"
     ]
    }
   ],
   "source": [
    "cliente = \"Valeria\"\n",
    "saldo = 100000   # Definimos el saldo que tenemos en la cuenta bancaria\n",
    "resto = 120000     # Definimos el dinero que queremos restarle a dicho saldo, como por ejemplo, 5000€\n",
    "nuevo_saldo = saldo - resto # creamos una variable para mostrar nuestro saldo actualizado\n",
    "print(\"tiene un nuevo saldo de\",nuevo_saldo)\n",
    "\n",
    "\n",
    "# Para definir el parámetro de dinero a retrirar voy a esteblecer una funcion para utilizarla tantas veces como valores diferentes quiera sin modificar el resto de las variables y demás que he establecido.\n",
    "\n",
    "def balance(saldo,resto):        # definicmos balance como variable de la funcion con dos valores saldo y resto\n",
    "    nuevo_saldo = saldo - resto  # nuevo_saldo es la operacion matematica para saber el saldo final que nos queda despues de retirar el dinero, es decir, con los valores numericos que asignemos a los valores de la funcion (saldo y resto)\n",
    "    return nuevo_saldo           # devolverme el valor final\n",
    "\n",
    "print (\"tiene un nuevo saldo de\",nuevo_saldo)\n",
    "\n",
    "try:                                       #Lanza un ValueError si no hay suficiente dinero para retirar: vamos a verificar si el dinero que retire va a ser mayor que el saldo inicial que tengamos.\n",
    "    nuevo_saldo = balance(saldo,resto)     #para la funcion balance y sus valores saldo y resto vamos a comprobar si hay suficiente dinero para retirar o por el contrario los podemos retirar y nos sale el nuevo saldo con lo que hemos retirado\n",
    "    print(\"el nuevo saldo es \",nuevo_saldo)\n",
    "except ValueError as e:                    #esto nos da el mesaje de error cuando no se cumple la condicion de si retirmos mas dinero del que tenemos en el saldo\n",
    "    print(f\"Error: {e}\")\n",
    "\n",
    "\n",
    "\n",
    "\n",
    "    "
   ]
  },
  {
   "cell_type": "code",
   "execution_count": 30,
   "id": "ef538df7-5c32-4b78-8bef-7a803b2702eb",
   "metadata": {},
   "outputs": [
    {
     "name": "stdout",
     "output_type": "stream",
     "text": [
      "Error: No disponemos de tantos fondos para retirar en la cuenta del cliente Valeria.\n"
     ]
    }
   ],
   "source": [
    "# para devolver la cadena con el nombre y el saldo, vamos a ultizar condiciones de una funcion (IF y Raise)\n",
    "# le vamos a dar una condicion a la funcion para que nos de la cadena en caso de no poder retirar fondos\n",
    " #hemos agregado un nuevo parametro como el nombre del cliente a nuestra funcion\n",
    "\n",
    "def balance(cliente,saldo,resto):\n",
    "    if resto > saldo:\n",
    "        raise ValueError(f\"No disponemos de tantos fondos para retirar en la cuenta del cliente {cliente}.\")\n",
    "    nuevo_saldo = saldo > resto \n",
    "    cuenta = f\"{cliente},nuevo_saldo:{nuevo_saldo}\"  \n",
    "    return cuenta           \n",
    "\n",
    "try:                                       \n",
    "    nuevo_saldo = balance(cliente,saldo,resto)     \n",
    "    print(\"el nuevo saldo es \",nuevo_saldo)\n",
    "except ValueError as error:                \n",
    "    print(f\"Error: {error}\")\n"
   ]
  },
  {
   "cell_type": "markdown",
   "id": "0897778d-377b-4e68-8699-56c38af35f5f",
   "metadata": {},
   "source": [
    "---"
   ]
  },
  {
   "cell_type": "markdown",
   "id": "04acfd2a-7fd9-4732-b526-b125147b5b8a",
   "metadata": {},
   "source": [
    "**Un método de chequeo (check)**\n",
    "- Agrega dinero al saldo\n",
    "- Dos parámetros, otro usuario y dinero.\n",
    "- El otro usuario siempre será válido.\n",
    "- Lanza un ValueError si el otro usuario no tiene suficiente dinero.\n",
    "- Lanza un ValueError si checking_account no es verdadero para el otro usuario.\n",
    "- Devuelve una cadena con el nombre y el saldo más el nombre del otro y el saldo del otro (ver ejemplos).los)"
   ]
  },
  {
   "cell_type": "code",
   "execution_count": 38,
   "id": "42b5de8f-fbea-4301-94d1-53dbec7d97ba",
   "metadata": {},
   "outputs": [
    {
     "name": "stdout",
     "output_type": "stream",
     "text": [
      "tiene un nuevo saldo de 220000\n",
      "tiene un nuevo saldo de 220000\n",
      "el nuevo saldo es  220000\n"
     ]
    }
   ],
   "source": [
    "# en lugar de utilizar la operacion matematica de restar vamos a utilizar la suma para agregar el dinero\n",
    "\n",
    "cliente1 = \"Valeria\"\n",
    "saldo1 = 100000   \n",
    "agre1 = 120000     \n",
    "nuevo_saldo1 = saldo1 + agre1 \n",
    "print(\"tiene un nuevo saldo de\",nuevo_saldo1)\n",
    "\n",
    "def balance1(saldo1,resto1):        \n",
    "    nuevo_saldo1 = saldo1 + agre1  \n",
    "    return nuevo_saldo1          \n",
    "\n",
    "print (\"tiene un nuevo saldo de\",nuevo_saldo1)\n",
    "\n",
    "try:                                     \n",
    "    nuevo_saldo1 = balance1(saldo1,agre1)     \n",
    "    \n",
    "    print(\"el nuevo saldo es \",nuevo_saldo1)\n",
    "except ValueError as e:                    \n",
    "    print(f\"Error: {e}\")\n",
    "\n"
   ]
  },
  {
   "cell_type": "code",
   "execution_count": 19,
   "id": "c1114e1e-15af-43c8-88cd-18cff1b7d7a8",
   "metadata": {},
   "outputs": [
    {
     "name": "stdout",
     "output_type": "stream",
     "text": [
      "Valeria, tiene un nuevo saldo: 220000\n",
      "Jonan, tiene nuevo saldo: 216000\n"
     ]
    }
   ],
   "source": [
    "# si quiero establecer un usuario más y otro importe de dinero para ese usuario, establezco los valores para ambos:\n",
    "cliente1 = \"Valeria\"\n",
    "saldo1 = 100000   \n",
    "agre1 = 120000 \n",
    "\n",
    "cliente2 = \"Jonan\"\n",
    "saldo2 = 200000   \n",
    "agre2 = 16000    \n",
    "\n",
    "\n",
    "def nuevo_bal(cliente1, saldo1,resto1, cliente2,saldo2,resto2):\n",
    "    nuevo_saldo1 = saldo1 + agre1                          \n",
    "    nuevo_saldo2 = saldo2 + agre2                          \n",
    "    \n",
    "    balance1 = f\"{cliente1}, tiene un nuevo saldo: {nuevo_saldo1}\"\n",
    "    balance2 = f\"{cliente2}, tiene nuevo saldo: {nuevo_saldo2}\"\n",
    "    \n",
    "    return balance1,balance2\n",
    "\n",
    "balance1, balance2 = nuevo_bal(cliente1, saldo1, agre1, cliente2, saldo2, agre2)\n",
    "\n",
    "print(balance1)\n",
    "print(balance2)"
   ]
  },
  {
   "cell_type": "code",
   "execution_count": 20,
   "id": "d5677df4-7ff0-474b-a0c1-082adacbbe4c",
   "metadata": {},
   "outputs": [
    {
     "name": "stdout",
     "output_type": "stream",
     "text": [
      "error: El otro usuario Valeria no tiene suficiente dinero.\n"
     ]
    }
   ],
   "source": [
    "# Para Lanzar un ValueError si el otro usuario no tiene suficiente dinero, modificamos la función:\n",
    "\n",
    "cliente1 = \"Valeria\"\n",
    "saldo1 = 100000   \n",
    "agre1 = 120000\n",
    "\n",
    "cliente2 = \"Jonan\"\n",
    "saldo2 = 7500   #modificamos este valor para ver si nos da condicion del valueError,para ver si me da el saldo insuficiente\n",
    "agre2 = 16000\n",
    "\n",
    "def nuevo_bal(cliente1,saldo1,agre1,cliente2,saldo2,agre2):\n",
    "    if agre2 > saldo2:\n",
    "        raise ValueError(f\"El otro usuario {cliente1} no tiene suficiente dinero.\")\n",
    "\n",
    "    nuevo_saldo1 = saldo1 + agre1     #aqui sumamos la cantidad al saldo actual del primer usuario\n",
    "    nuevo_saldo2 = saldo2 + agre2     #aqui sumamos la cantidad al saldo actual del segundo usuario\n",
    "\n",
    "    balance1 = f\"{cliente1}, tiene nuevo saldo de: {nuevo_saldo1}\"\n",
    "    balance2 = f\"{cliente2}, tiene nuevo saldo de: {nuevo_saldo2}\"     \n",
    "\n",
    "    return balance1,balance2\n",
    "\n",
    "try:\n",
    "    balance1,balance2 = nuevo_bal(cliente1,saldo1,agre1,cliente2,saldo2,agre2)\n",
    "    print(balance1)\n",
    "    print(balance2)\n",
    "\n",
    "except ValueError as e:\n",
    "    print(f\"error: {e}\")"
   ]
  },
  {
   "cell_type": "code",
   "execution_count": 24,
   "id": "2b62107c-9dbe-4e9a-b399-d1dc6dc2ca79",
   "metadata": {},
   "outputs": [
    {
     "name": "stdout",
     "output_type": "stream",
     "text": [
      "Error: No se puede agregar saldo en la cuenta de Jonan. Verifica el saldo o la cuenta de cheques.\n"
     ]
    }
   ],
   "source": [
    "# Lanza un ValueError si checking_account no es verdadero para el otro usuario.\n",
    "#  Devuelve una cadena con el nombre y el saldo más el nombre del otro y el saldo del otro (ver ejemplos).\n",
    "\n",
    "cliente1 = \"Valeria\"\n",
    "saldo1 = 100000   \n",
    "agre1 = 120000\n",
    "checking_account1 = True   # es una condicion para que si es verdadera me diga que si puedo añadir estos fondos \n",
    "\n",
    "cliente2 = \"Jonan\"\n",
    "saldo2 = 75000   #modificamos este valor para ver si nos da condicion del valueError\n",
    "agre2 = 16000\n",
    "checking_account2 = False   # si pasa a True es porque la cuenta de checking_account es verdadera\n",
    "\n",
    "def nuevo_bal(client1, saldo1, agre1, checking_account1, cliente2, saldo2, agre2, checking_account2):\n",
    "    if agre2 > saldo2 or not checking_account2:                         \n",
    "        raise ValueError(f\"No se puede agregar saldo en la cuenta de {cliente2}. Verifica el saldo o la cuenta de cheques.\")  \n",
    "      \n",
    "    nuevo_saldo1 = saldo1 + agre1\n",
    "    nuevo_saldo2 = saldo2 + agre2           #volvemos a calcular los nuevos saldos de ambos clientes\n",
    "    \n",
    "    balance1 = f\"{cliente1}, tiene un nuevo saldo: {nuevo_saldo1}\"\n",
    "    balance2 = f\"{cliente2}, tiene un nuevo saldo: {nuevo_saldo2}\"\n",
    "    \n",
    "    return balance1, balance2\n",
    "\n",
    "try:\n",
    "    balance1, balance2 = nuevo_bal(cliente1, saldo1, agre1, checking_account1, cliente2, saldo2, agre2, checking_account2)\n",
    "    print(balance1)\n",
    "    print(balance2)\n",
    "    \n",
    "except ValueError as e:\n",
    "    print(f\"Error: {e}\")\n",
    "\n"
   ]
  },
  {
   "cell_type": "code",
   "execution_count": null,
   "id": "85702ecf-fa34-40b4-93b5-2ae706ec982a",
   "metadata": {},
   "outputs": [],
   "source": []
  }
 ],
 "metadata": {
  "kernelspec": {
   "display_name": "Python 3 (ipykernel)",
   "language": "python",
   "name": "python3"
  },
  "language_info": {
   "codemirror_mode": {
    "name": "ipython",
    "version": 3
   },
   "file_extension": ".py",
   "mimetype": "text/x-python",
   "name": "python",
   "nbconvert_exporter": "python",
   "pygments_lexer": "ipython3",
   "version": "3.10.11"
  }
 },
 "nbformat": 4,
 "nbformat_minor": 5
}
